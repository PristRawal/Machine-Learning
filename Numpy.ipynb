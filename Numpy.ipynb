{
 "cells": [
  {
   "cell_type": "code",
   "execution_count": 1,
   "id": "d87641f0-0d42-439b-a752-df53245d5ff5",
   "metadata": {},
   "outputs": [],
   "source": [
    "import numpy as np\n"
   ]
  },
  {
   "cell_type": "code",
   "execution_count": 3,
   "id": "37c1627c-2361-4d15-8c95-c80972376a37",
   "metadata": {},
   "outputs": [],
   "source": [
    "arr=np.array([1,2,3,4,5] , dtype=np.int32)"
   ]
  },
  {
   "cell_type": "code",
   "execution_count": 4,
   "id": "f5218ba0-da8b-475e-a4ed-c56532b143cd",
   "metadata": {},
   "outputs": [
    {
     "name": "stdout",
     "output_type": "stream",
     "text": [
      "[1 2 3 4 5]\n"
     ]
    }
   ],
   "source": [
    "print(arr)"
   ]
  },
  {
   "cell_type": "code",
   "execution_count": 7,
   "id": "a0a45af5-89af-4bb1-a408-4fafd3fdbfce",
   "metadata": {},
   "outputs": [
    {
     "name": "stdout",
     "output_type": "stream",
     "text": [
      "int32\n"
     ]
    }
   ],
   "source": [
    "print(arr.dtype)"
   ]
  },
  {
   "cell_type": "code",
   "execution_count": 8,
   "id": "b38f2130-2c84-4a15-bc1e-bfd5a5a4d5bb",
   "metadata": {},
   "outputs": [
    {
     "name": "stdout",
     "output_type": "stream",
     "text": [
      "[10  2  3  4  5]\n"
     ]
    }
   ],
   "source": [
    "arr[0]=10\n",
    "print(arr)"
   ]
  },
  {
   "cell_type": "code",
   "execution_count": 10,
   "id": "7d0f4b30-05d1-46b3-9276-dc368d1b3ea6",
   "metadata": {},
   "outputs": [
    {
     "name": "stdout",
     "output_type": "stream",
     "text": [
      "[10  2  3]\n"
     ]
    }
   ],
   "source": [
    "print(arr[0:3])"
   ]
  },
  {
   "cell_type": "code",
   "execution_count": 11,
   "id": "967b6fd0-5c30-45b4-8e3c-953688ca4307",
   "metadata": {},
   "outputs": [
    {
     "data": {
      "text/plain": [
       "(5,)"
      ]
     },
     "execution_count": 11,
     "metadata": {},
     "output_type": "execute_result"
    }
   ],
   "source": [
    "arr.shape"
   ]
  },
  {
   "cell_type": "code",
   "execution_count": 15,
   "id": "9016ed06-0360-4163-a24c-2453b1f8b099",
   "metadata": {},
   "outputs": [
    {
     "name": "stdout",
     "output_type": "stream",
     "text": [
      "(2, 3)\n"
     ]
    }
   ],
   "source": [
    "arr_2=np.array([[1,2,3],\n",
    "       [2,4,6]])\n",
    "print(arr_2.shape)"
   ]
  },
  {
   "cell_type": "code",
   "execution_count": 17,
   "id": "dfc80d6b-13a7-4df2-8e18-ee77bdc27aca",
   "metadata": {},
   "outputs": [
    {
     "name": "stdout",
     "output_type": "stream",
     "text": [
      "(1, 2, 3)\n"
     ]
    }
   ],
   "source": [
    "arr_3d = np.array([[[1,2,3],\n",
    "                    [2,4,5]],\n",
    "                  ])\n",
    "print(arr_3d.shape)"
   ]
  },
  {
   "cell_type": "markdown",
   "id": "cb272f65-252c-480e-9c9a-51daa62ce0e6",
   "metadata": {},
   "source": [
    "a=np.array([1,2])"
   ]
  },
  {
   "cell_type": "code",
   "execution_count": 23,
   "id": "d750dcaa-8936-4aa4-b4a5-efe765b1065b",
   "metadata": {},
   "outputs": [
    {
     "data": {
      "text/plain": [
       "3"
      ]
     },
     "execution_count": 23,
     "metadata": {},
     "output_type": "execute_result"
    }
   ],
   "source": [
    "arr_3d.ndim"
   ]
  },
  {
   "cell_type": "code",
   "execution_count": 24,
   "id": "56fd8e66-033d-47fa-b899-8e61505166dc",
   "metadata": {},
   "outputs": [
    {
     "data": {
      "text/plain": [
       "2"
      ]
     },
     "execution_count": 24,
     "metadata": {},
     "output_type": "execute_result"
    }
   ],
   "source": [
    "arr_2.ndim"
   ]
  },
  {
   "cell_type": "code",
   "execution_count": 25,
   "id": "16dfdaff-6c7c-48d0-861a-65b0cbaeb38b",
   "metadata": {},
   "outputs": [
    {
     "data": {
      "text/plain": [
       "1"
      ]
     },
     "execution_count": 25,
     "metadata": {},
     "output_type": "execute_result"
    }
   ],
   "source": [
    "arr.ndim"
   ]
  },
  {
   "cell_type": "code",
   "execution_count": 26,
   "id": "90e2584f-5ef7-422c-bfc0-797c46b7709c",
   "metadata": {},
   "outputs": [
    {
     "data": {
      "text/plain": [
       "5"
      ]
     },
     "execution_count": 26,
     "metadata": {},
     "output_type": "execute_result"
    }
   ],
   "source": [
    "arr.size"
   ]
  },
  {
   "cell_type": "code",
   "execution_count": 27,
   "id": "1d87a899-7d53-4683-8b8e-d717a729d328",
   "metadata": {},
   "outputs": [
    {
     "data": {
      "text/plain": [
       "6"
      ]
     },
     "execution_count": 27,
     "metadata": {},
     "output_type": "execute_result"
    }
   ],
   "source": [
    "arr_3d.size"
   ]
  },
  {
   "cell_type": "code",
   "execution_count": 28,
   "id": "b96e6a2c-9401-4419-91fd-48d21737c158",
   "metadata": {},
   "outputs": [
    {
     "name": "stdout",
     "output_type": "stream",
     "text": [
      "[[1 2]\n",
      " [3 2]\n",
      " [4 5]]\n"
     ]
    }
   ],
   "source": [
    "arr_3d1=arr_3d.reshape(3,2)\n",
    "print(arr_3d1)"
   ]
  },
  {
   "cell_type": "code",
   "execution_count": 29,
   "id": "244d3c56-2335-4c64-b958-dcdf5b440343",
   "metadata": {},
   "outputs": [
    {
     "name": "stdout",
     "output_type": "stream",
     "text": [
      "[[1 2]\n",
      " [3 2]\n",
      " [4 5]]\n"
     ]
    }
   ],
   "source": [
    "print(arr_3d.reshape(3,2))"
   ]
  },
  {
   "cell_type": "code",
   "execution_count": 30,
   "id": "e10de31b-f36d-47d9-bf77-853f25b6c3ce",
   "metadata": {},
   "outputs": [
    {
     "data": {
      "text/plain": [
       "array([[[1],\n",
       "        [2]],\n",
       "\n",
       "       [[2],\n",
       "        [4]],\n",
       "\n",
       "       [[3],\n",
       "        [5]]])"
      ]
     },
     "execution_count": 30,
     "metadata": {},
     "output_type": "execute_result"
    }
   ],
   "source": [
    "arr_3d.T"
   ]
  },
  {
   "cell_type": "code",
   "execution_count": 31,
   "id": "7df897d2-550e-4029-8d02-5fe554d3d6ec",
   "metadata": {},
   "outputs": [
    {
     "data": {
      "text/plain": [
       "array([[1, 2, 3],\n",
       "       [2, 4, 6]])"
      ]
     },
     "execution_count": 31,
     "metadata": {},
     "output_type": "execute_result"
    }
   ],
   "source": [
    "arr_2"
   ]
  },
  {
   "cell_type": "code",
   "execution_count": 32,
   "id": "b0a544fd-3ac7-43ca-8bae-61835e72bac5",
   "metadata": {},
   "outputs": [
    {
     "data": {
      "text/plain": [
       "array([[1, 2],\n",
       "       [2, 4],\n",
       "       [3, 6]])"
      ]
     },
     "execution_count": 32,
     "metadata": {},
     "output_type": "execute_result"
    }
   ],
   "source": [
    "arr_2.T"
   ]
  },
  {
   "cell_type": "code",
   "execution_count": 35,
   "id": "8cfdc52d-f1b1-441e-a7d0-8b1de21ad0f4",
   "metadata": {},
   "outputs": [
    {
     "name": "stdout",
     "output_type": "stream",
     "text": [
      "[[2.12199579e-314 1.41749319e-311]\n",
      " [7.68766145e-321 1.41749319e-311]]\n"
     ]
    }
   ],
   "source": [
    "#empty matrix\n",
    "a=np.empty((2,2))\n",
    "print(a)"
   ]
  },
  {
   "cell_type": "code",
   "execution_count": 42,
   "id": "880dddc3-3de4-4986-8560-a5d3f9e779fe",
   "metadata": {},
   "outputs": [],
   "source": [
    "a=np.eye(6,4)"
   ]
  },
  {
   "cell_type": "code",
   "execution_count": 43,
   "id": "81a85a14-cd7d-45ac-8db8-b94b6b5531b7",
   "metadata": {},
   "outputs": [
    {
     "name": "stdout",
     "output_type": "stream",
     "text": [
      "[[1. 0. 0. 0.]\n",
      " [0. 1. 0. 0.]\n",
      " [0. 0. 1. 0.]\n",
      " [0. 0. 0. 1.]\n",
      " [0. 0. 0. 0.]\n",
      " [0. 0. 0. 0.]]\n"
     ]
    }
   ],
   "source": [
    "print(a)"
   ]
  },
  {
   "cell_type": "code",
   "execution_count": 49,
   "id": "56effb5d-8768-431f-8409-b475cc8617c5",
   "metadata": {},
   "outputs": [
    {
     "name": "stdout",
     "output_type": "stream",
     "text": [
      "[1 0 2]\n"
     ]
    }
   ],
   "source": [
    "#Sorting\n",
    "a=np.array([5,4,23])\n",
    "x=np.argsort(a)\n",
    "print(x)"
   ]
  },
  {
   "cell_type": "code",
   "execution_count": 50,
   "id": "cc9fc4f4-c335-407b-a845-2705f4ac402b",
   "metadata": {},
   "outputs": [
    {
     "name": "stdout",
     "output_type": "stream",
     "text": [
      "[ 5  4 23  1  0  2]\n"
     ]
    }
   ],
   "source": [
    "#Concatenation\n",
    "c=np.concatenate((a,x))\n",
    "print(c)"
   ]
  },
  {
   "cell_type": "code",
   "execution_count": 58,
   "id": "ec256524-3c04-4fc0-9cfb-66c9539e26cf",
   "metadata": {},
   "outputs": [],
   "source": [
    "x = np.array([[1, 2], [3, 4]])\n",
    "y = np.array([[5, 6],[0,0]])"
   ]
  },
  {
   "cell_type": "code",
   "execution_count": 59,
   "id": "a4c039dd-191d-48a7-8d59-28c7fed0fb73",
   "metadata": {},
   "outputs": [],
   "source": [
    "z=np.concatenate((x,y),axis=1)"
   ]
  },
  {
   "cell_type": "code",
   "execution_count": 60,
   "id": "397e9760-cbb8-42df-a65b-586f29c00690",
   "metadata": {},
   "outputs": [
    {
     "name": "stdout",
     "output_type": "stream",
     "text": [
      "[[1 2 5 6]\n",
      " [3 4 0 0]]\n"
     ]
    }
   ],
   "source": [
    "print(z)"
   ]
  },
  {
   "cell_type": "code",
   "execution_count": 62,
   "id": "e4ef27ac-9742-4a4e-a28f-949f0935f427",
   "metadata": {},
   "outputs": [
    {
     "name": "stdout",
     "output_type": "stream",
     "text": [
      "(2, 3)\n"
     ]
    }
   ],
   "source": [
    "a=np.array([[1,2,3],[2,3,4]])\n",
    "print(a.shape)"
   ]
  },
  {
   "cell_type": "code",
   "execution_count": 67,
   "id": "c41d5bf7-60fc-43a9-84bc-8a362872d90b",
   "metadata": {},
   "outputs": [],
   "source": [
    "ac=a[np.newaxis,::]"
   ]
  },
  {
   "cell_type": "code",
   "execution_count": 68,
   "id": "6d9c2752-e3e0-42a9-a2cd-a4e803ca982f",
   "metadata": {},
   "outputs": [
    {
     "name": "stdout",
     "output_type": "stream",
     "text": [
      "(1, 2, 3)\n"
     ]
    }
   ],
   "source": [
    "print(ac.shape)"
   ]
  },
  {
   "cell_type": "code",
   "execution_count": 69,
   "id": "19e25c3c-58b4-48a7-9e49-6b2d52c40f80",
   "metadata": {},
   "outputs": [
    {
     "name": "stdout",
     "output_type": "stream",
     "text": [
      "[[[1 2 3]\n",
      "  [2 3 4]]]\n"
     ]
    }
   ],
   "source": [
    "print(ac)"
   ]
  },
  {
   "cell_type": "code",
   "execution_count": 2,
   "id": "cc19232d-294f-4dc3-ba8e-fe9182ea53fc",
   "metadata": {},
   "outputs": [],
   "source": [
    "a=np.array([[1,2,3],[2,3,4]])"
   ]
  },
  {
   "cell_type": "code",
   "execution_count": 3,
   "id": "b1f2656b-c8e2-477b-87da-cfa7676e320c",
   "metadata": {},
   "outputs": [
    {
     "name": "stdout",
     "output_type": "stream",
     "text": [
      "15\n"
     ]
    }
   ],
   "source": [
    "sum=np.sum(a)\n",
    "print(sum)"
   ]
  },
  {
   "cell_type": "code",
   "execution_count": 4,
   "id": "471ee262-76d5-4eda-958e-22a81b16c17b",
   "metadata": {},
   "outputs": [
    {
     "name": "stdout",
     "output_type": "stream",
     "text": [
      "[[1 2 3]\n",
      " [2 3 4]]\n"
     ]
    }
   ],
   "source": [
    "print(a)"
   ]
  },
  {
   "cell_type": "code",
   "execution_count": 5,
   "id": "8fff0c6e-b1b5-48c1-b9d0-d768da3530d7",
   "metadata": {},
   "outputs": [
    {
     "name": "stdout",
     "output_type": "stream",
     "text": [
      "[3 5 7]\n"
     ]
    }
   ],
   "source": [
    "print(np.sum(a,axis=0))"
   ]
  },
  {
   "cell_type": "code",
   "execution_count": 6,
   "id": "3324a6a5-4b13-4713-be4a-65bef0ca4a60",
   "metadata": {},
   "outputs": [
    {
     "name": "stdout",
     "output_type": "stream",
     "text": [
      "[6 9]\n"
     ]
    }
   ],
   "source": [
    "print(np.sum(a,axis=1))"
   ]
  },
  {
   "cell_type": "code",
   "execution_count": 7,
   "id": "d8d3c688-724f-49ef-bbfb-e5a0d7214d12",
   "metadata": {},
   "outputs": [],
   "source": [
    "b=np.max(a)"
   ]
  },
  {
   "cell_type": "code",
   "execution_count": 8,
   "id": "eb3081de-19e8-47f7-afa1-c4e873a37d31",
   "metadata": {},
   "outputs": [
    {
     "name": "stdout",
     "output_type": "stream",
     "text": [
      "4\n"
     ]
    }
   ],
   "source": [
    "print(b)"
   ]
  },
  {
   "cell_type": "code",
   "execution_count": 10,
   "id": "6f8947f6-0b58-459a-9851-baec1aa1bd91",
   "metadata": {},
   "outputs": [
    {
     "name": "stdout",
     "output_type": "stream",
     "text": [
      "[3 4]\n"
     ]
    }
   ],
   "source": [
    "print(np.max(a , axis=1))"
   ]
  },
  {
   "cell_type": "code",
   "execution_count": 12,
   "id": "39354978-12b3-47d7-bc41-89a465563e15",
   "metadata": {},
   "outputs": [],
   "source": [
    "#Matrix operations\n",
    "list=[1 ,2, 3, 4]\n",
    "array=np.array([1,2,3,4])"
   ]
  },
  {
   "cell_type": "code",
   "execution_count": 13,
   "id": "4f305784-9fcd-4288-b2d8-0f71136dec19",
   "metadata": {},
   "outputs": [
    {
     "name": "stdout",
     "output_type": "stream",
     "text": [
      "[1, 2, 3, 4, 1, 2, 3, 4]\n",
      "[2 4 6 8]\n"
     ]
    }
   ],
   "source": [
    "a=list*2\n",
    "b=array*2\n",
    "print(a)\n",
    "print(b)"
   ]
  },
  {
   "cell_type": "code",
   "execution_count": 14,
   "id": "0e5a7102-2bb8-49ce-96f9-30ac4f4b6de2",
   "metadata": {},
   "outputs": [
    {
     "data": {
      "text/plain": [
       "array([1., 1., 1.])"
      ]
     },
     "execution_count": 14,
     "metadata": {},
     "output_type": "execute_result"
    }
   ],
   "source": [
    "np.ones(3)"
   ]
  },
  {
   "cell_type": "code",
   "execution_count": 15,
   "id": "9cd6b876-0db2-4fd1-a9a6-90f566d44803",
   "metadata": {},
   "outputs": [
    {
     "data": {
      "text/plain": [
       "array([[1., 1., 1.],\n",
       "       [1., 1., 1.],\n",
       "       [1., 1., 1.]])"
      ]
     },
     "execution_count": 15,
     "metadata": {},
     "output_type": "execute_result"
    }
   ],
   "source": [
    "np.ones((3,3))"
   ]
  },
  {
   "cell_type": "code",
   "execution_count": 17,
   "id": "894bdece-8e96-46b4-a8b0-91e0f16f2e7a",
   "metadata": {},
   "outputs": [
    {
     "data": {
      "text/plain": [
       "array([[1., 0., 0.],\n",
       "       [0., 1., 0.],\n",
       "       [0., 0., 1.]])"
      ]
     },
     "execution_count": 17,
     "metadata": {},
     "output_type": "execute_result"
    }
   ],
   "source": [
    "np.eye(3,3)"
   ]
  },
  {
   "cell_type": "code",
   "execution_count": 18,
   "id": "c9bd9f86-a54b-47fc-904d-aa472e534d20",
   "metadata": {},
   "outputs": [
    {
     "data": {
      "text/plain": [
       "array([0., 0., 0.])"
      ]
     },
     "execution_count": 18,
     "metadata": {},
     "output_type": "execute_result"
    }
   ],
   "source": [
    "np.zeros(3)"
   ]
  },
  {
   "cell_type": "code",
   "execution_count": 20,
   "id": "bfa6aa45-a5d4-4293-a5c6-ed9396988d79",
   "metadata": {},
   "outputs": [],
   "source": [
    "arr=np.array([1,2,3,3,3,4,5,1,5,6,4,6])"
   ]
  },
  {
   "cell_type": "code",
   "execution_count": 23,
   "id": "4f36e8ed-1e51-4cba-aa37-48023976011a",
   "metadata": {},
   "outputs": [
    {
     "name": "stdout",
     "output_type": "stream",
     "text": [
      "[1 2 3 4 5 6]\n",
      "[2 1 3 2 2 2]\n"
     ]
    }
   ],
   "source": [
    "unique , occur=np.unique(arr , return_counts=True)\n",
    "print(unique)\n",
    "print(occur)"
   ]
  },
  {
   "cell_type": "code",
   "execution_count": 28,
   "id": "bd5c5f3a-b37f-407b-a7a3-a39a4c7f131f",
   "metadata": {},
   "outputs": [
    {
     "name": "stdout",
     "output_type": "stream",
     "text": [
      "(2, 3)\n"
     ]
    }
   ],
   "source": [
    "a=np.array([[1,2,3],[1,4,3]])\n",
    "print(a.shape)"
   ]
  },
  {
   "cell_type": "code",
   "execution_count": 29,
   "id": "0820043c-28be-4d29-b2dd-fcf26cf10f5c",
   "metadata": {},
   "outputs": [
    {
     "name": "stdout",
     "output_type": "stream",
     "text": [
      "[[1 2 3]\n",
      " [1 4 3]]\n"
     ]
    }
   ],
   "source": [
    "b=np.unique(a , axis=0)\n",
    "print(b)"
   ]
  },
  {
   "cell_type": "code",
   "execution_count": 30,
   "id": "b6499f0a-2eb7-4936-8d83-c54ab524d906",
   "metadata": {},
   "outputs": [
    {
     "name": "stdout",
     "output_type": "stream",
     "text": [
      "[4 3 2 1]\n"
     ]
    }
   ],
   "source": [
    "arr=np.array([1,2,3,4])\n",
    "print(np.flip(arr))"
   ]
  },
  {
   "cell_type": "code",
   "execution_count": 38,
   "id": "ce1be8c2-989b-4692-913a-773ea1529cc8",
   "metadata": {},
   "outputs": [
    {
     "name": "stdout",
     "output_type": "stream",
     "text": [
      "[[1 2 3 4]\n",
      " [4 3 4 3]\n",
      " [1 7 5 4]]\n",
      "[[4 3 2 1]\n",
      " [3 4 3 4]\n",
      " [4 5 7 1]]\n"
     ]
    }
   ],
   "source": [
    "arr=np.array([[1,2,3,4],[4,3,4,3],[1,7,5,4]])\n",
    "print(arr)\n",
    "print(np.flip(arr,axis=1))"
   ]
  },
  {
   "cell_type": "code",
   "execution_count": 39,
   "id": "f42d6b06-1a9f-4d2f-9b18-63af4052399e",
   "metadata": {},
   "outputs": [
    {
     "name": "stdout",
     "output_type": "stream",
     "text": [
      "[1 2 3 4 4 3 4 3 1 7 5 4]\n"
     ]
    }
   ],
   "source": [
    "print(arr.flatten())"
   ]
  },
  {
   "cell_type": "code",
   "execution_count": null,
   "id": "d7f35f77-5e23-4af0-8882-d3cd148b3b93",
   "metadata": {},
   "outputs": [],
   "source": []
  }
 ],
 "metadata": {
  "kernelspec": {
   "display_name": "Python 3 (ipykernel)",
   "language": "python",
   "name": "python3"
  },
  "language_info": {
   "codemirror_mode": {
    "name": "ipython",
    "version": 3
   },
   "file_extension": ".py",
   "mimetype": "text/x-python",
   "name": "python",
   "nbconvert_exporter": "python",
   "pygments_lexer": "ipython3",
   "version": "3.12.2"
  }
 },
 "nbformat": 4,
 "nbformat_minor": 5
}
