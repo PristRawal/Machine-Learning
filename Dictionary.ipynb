{
 "cells": [
  {
   "cell_type": "code",
   "execution_count": 1,
   "id": "e9fe8024-a300-4553-9294-089ffb11e9b2",
   "metadata": {},
   "outputs": [],
   "source": [
    "dicy={'Name':'Ram' , 'Age':36 , 'Hender':'M'}"
   ]
  },
  {
   "cell_type": "code",
   "execution_count": 2,
   "id": "259ff107-526e-4c65-b8c8-cd7cf59639db",
   "metadata": {},
   "outputs": [
    {
     "name": "stdout",
     "output_type": "stream",
     "text": [
      "{'Name': 'Ram', 'Age': 36, 'Hender': 'M'}\n"
     ]
    }
   ],
   "source": [
    "print(dicy)"
   ]
  },
  {
   "cell_type": "code",
   "execution_count": 3,
   "id": "288403e3-39b9-4bbf-873f-3d3284ba634f",
   "metadata": {},
   "outputs": [
    {
     "name": "stdout",
     "output_type": "stream",
     "text": [
      "Ram\n"
     ]
    }
   ],
   "source": [
    "print(dicy['Name'])"
   ]
  },
  {
   "cell_type": "code",
   "execution_count": 4,
   "id": "d7620837-8e81-449f-b9a9-a5138ab30e18",
   "metadata": {},
   "outputs": [],
   "source": [
    "dicy['Name']='Hari'"
   ]
  },
  {
   "cell_type": "code",
   "execution_count": 5,
   "id": "922182b8-12a5-4325-ba86-8d77a1d70529",
   "metadata": {},
   "outputs": [
    {
     "name": "stdout",
     "output_type": "stream",
     "text": [
      "{'Name': 'Hari', 'Age': 36, 'Hender': 'M'}\n"
     ]
    }
   ],
   "source": [
    "print(dicy)"
   ]
  },
  {
   "cell_type": "code",
   "execution_count": 6,
   "id": "e8bb1779-e97a-4af2-9883-42f64641d61a",
   "metadata": {},
   "outputs": [
    {
     "name": "stdout",
     "output_type": "stream",
     "text": [
      "{'Name': 'Ram', 'Age': 36, 'Hender': 'F'}\n"
     ]
    }
   ],
   "source": [
    "dicy={'Name':'Ram' , 'Age':36 , 'Hender':'M' , 'Hender':'F'}\n",
    "print(dicy)"
   ]
  },
  {
   "cell_type": "code",
   "execution_count": 7,
   "id": "559dba18-c238-49f6-a481-038c95e25f77",
   "metadata": {},
   "outputs": [
    {
     "name": "stdout",
     "output_type": "stream",
     "text": [
      "3\n"
     ]
    }
   ],
   "source": [
    "print(len(dicy))"
   ]
  },
  {
   "cell_type": "code",
   "execution_count": 8,
   "id": "773d3003-4f30-40f0-8b4c-a9a24f4b9efd",
   "metadata": {},
   "outputs": [
    {
     "name": "stdout",
     "output_type": "stream",
     "text": [
      "dict_keys(['Name', 'Age', 'Hender'])\n"
     ]
    }
   ],
   "source": [
    "print(dicy.keys())"
   ]
  },
  {
   "cell_type": "code",
   "execution_count": 9,
   "id": "f9c8892f-1379-4146-adbc-2983c8d5947b",
   "metadata": {},
   "outputs": [
    {
     "name": "stdout",
     "output_type": "stream",
     "text": [
      "dict_values(['Ram', 36, 'F'])\n"
     ]
    }
   ],
   "source": [
    "print(dicy.values())"
   ]
  },
  {
   "cell_type": "code",
   "execution_count": 10,
   "id": "8daa5522-0ad5-4060-809d-75ed02859d32",
   "metadata": {},
   "outputs": [
    {
     "name": "stdout",
     "output_type": "stream",
     "text": [
      "{'Name': 'Ram', 'Age': 36, 'Hender': 'F', 'Color': 'Red'}\n"
     ]
    }
   ],
   "source": [
    "dicy['Color']='Red'\n",
    "print(dicy)"
   ]
  },
  {
   "cell_type": "code",
   "execution_count": 11,
   "id": "b1b90e5c-37c9-4f1d-86a7-68f77d0df585",
   "metadata": {},
   "outputs": [
    {
     "name": "stdout",
     "output_type": "stream",
     "text": [
      "dict_items([('Name', 'Ram'), ('Age', 36), ('Hender', 'F'), ('Color', 'Red')])\n"
     ]
    }
   ],
   "source": [
    "print(dicy.items())"
   ]
  },
  {
   "cell_type": "code",
   "execution_count": 13,
   "id": "a2f252ec-5066-4cf1-9d6e-0b7510082680",
   "metadata": {},
   "outputs": [
    {
     "name": "stdout",
     "output_type": "stream",
     "text": [
      "Ram\n"
     ]
    }
   ],
   "source": [
    "print(dicy['Name'])"
   ]
  },
  {
   "cell_type": "code",
   "execution_count": 14,
   "id": "4cafbe91-df9a-4e02-91ab-4f3265011e00",
   "metadata": {},
   "outputs": [
    {
     "name": "stdout",
     "output_type": "stream",
     "text": [
      "{'Age': 36, 'Hender': 'F', 'Color': 'Red'}\n"
     ]
    }
   ],
   "source": [
    "dicy.pop('Name')\n",
    "print(dicy)"
   ]
  },
  {
   "cell_type": "code",
   "execution_count": 17,
   "id": "c50f9181-e2e0-4298-b8be-6aac223bc2d8",
   "metadata": {},
   "outputs": [
    {
     "name": "stdout",
     "output_type": "stream",
     "text": [
      "Age\n",
      "Hender\n",
      "Color\n"
     ]
    }
   ],
   "source": [
    "for x in dicy.keys():\n",
    "    print(x)"
   ]
  },
  {
   "cell_type": "code",
   "execution_count": 18,
   "id": "5cae8b57-1388-4691-89e1-fe71259601ef",
   "metadata": {},
   "outputs": [
    {
     "name": "stdout",
     "output_type": "stream",
     "text": [
      "36\n",
      "F\n",
      "Red\n"
     ]
    }
   ],
   "source": [
    "for x in dicy.values():\n",
    "    print(x)"
   ]
  },
  {
   "cell_type": "code",
   "execution_count": null,
   "id": "16fd9afb-86f3-4668-ba5e-a4ab2adfc8be",
   "metadata": {},
   "outputs": [],
   "source": []
  }
 ],
 "metadata": {
  "kernelspec": {
   "display_name": "Python 3 (ipykernel)",
   "language": "python",
   "name": "python3"
  },
  "language_info": {
   "codemirror_mode": {
    "name": "ipython",
    "version": 3
   },
   "file_extension": ".py",
   "mimetype": "text/x-python",
   "name": "python",
   "nbconvert_exporter": "python",
   "pygments_lexer": "ipython3",
   "version": "3.12.2"
  }
 },
 "nbformat": 4,
 "nbformat_minor": 5
}
