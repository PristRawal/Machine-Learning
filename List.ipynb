{
 "cells": [
  {
   "cell_type": "code",
   "execution_count": 1,
   "id": "c373f53c-8447-41bc-a90a-030eb0d80a93",
   "metadata": {},
   "outputs": [
    {
     "name": "stdout",
     "output_type": "stream",
     "text": [
      "[2, 3, 'apple', 5]\n"
     ]
    }
   ],
   "source": [
    "a=[2,3,'apple',5]\n",
    "print(a)"
   ]
  },
  {
   "cell_type": "code",
   "execution_count": 7,
   "id": "3e0fa29a-0f45-4f58-8852-b503e34e597c",
   "metadata": {},
   "outputs": [
    {
     "data": {
      "text/plain": [
       "'apple'"
      ]
     },
     "execution_count": 7,
     "metadata": {},
     "output_type": "execute_result"
    }
   ],
   "source": [
    "a[2]"
   ]
  },
  {
   "cell_type": "code",
   "execution_count": 8,
   "id": "79e2a3fb-9fa6-472a-80d8-14ce8066596f",
   "metadata": {},
   "outputs": [
    {
     "data": {
      "text/plain": [
       "2"
      ]
     },
     "execution_count": 8,
     "metadata": {},
     "output_type": "execute_result"
    }
   ],
   "source": [
    "a[0]"
   ]
  },
  {
   "cell_type": "code",
   "execution_count": 9,
   "id": "b3c74d62-f666-4c6a-867b-2273ad041e7e",
   "metadata": {},
   "outputs": [
    {
     "data": {
      "text/plain": [
       "5"
      ]
     },
     "execution_count": 9,
     "metadata": {},
     "output_type": "execute_result"
    }
   ],
   "source": [
    "a[-1]"
   ]
  },
  {
   "cell_type": "code",
   "execution_count": 10,
   "id": "579aca92-274a-4ca5-8e14-c3df102f4919",
   "metadata": {},
   "outputs": [
    {
     "data": {
      "text/plain": [
       "'apple'"
      ]
     },
     "execution_count": 10,
     "metadata": {},
     "output_type": "execute_result"
    }
   ],
   "source": [
    "a[-2]"
   ]
  },
  {
   "cell_type": "code",
   "execution_count": 11,
   "id": "54ab566e-df9e-41fb-8fd3-d8107db37861",
   "metadata": {},
   "outputs": [
    {
     "data": {
      "text/plain": [
       "2"
      ]
     },
     "execution_count": 11,
     "metadata": {},
     "output_type": "execute_result"
    }
   ],
   "source": [
    "a[-4]"
   ]
  },
  {
   "cell_type": "code",
   "execution_count": 16,
   "id": "91453f09-f67f-480a-860b-f2d5690246e4",
   "metadata": {},
   "outputs": [],
   "source": [
    "a=[1,122,33,45,51,58,26,77,84,19,12]\n"
   ]
  },
  {
   "cell_type": "code",
   "execution_count": 17,
   "id": "8f25315f-d367-48e8-bd06-0d5745a06498",
   "metadata": {},
   "outputs": [
    {
     "data": {
      "text/plain": [
       "[1, 122]"
      ]
     },
     "execution_count": 17,
     "metadata": {},
     "output_type": "execute_result"
    }
   ],
   "source": [
    "a[0:2]"
   ]
  },
  {
   "cell_type": "code",
   "execution_count": 18,
   "id": "79b9cbad-152d-4932-a731-72df4a3cb0bf",
   "metadata": {},
   "outputs": [
    {
     "data": {
      "text/plain": [
       "[1, 122, 33, 45, 51]"
      ]
     },
     "execution_count": 18,
     "metadata": {},
     "output_type": "execute_result"
    }
   ],
   "source": [
    "a[0:5:1]"
   ]
  },
  {
   "cell_type": "code",
   "execution_count": 19,
   "id": "5309b9af-2184-48cc-b52a-2aea8b10213a",
   "metadata": {},
   "outputs": [
    {
     "data": {
      "text/plain": [
       "[1, 33, 51]"
      ]
     },
     "execution_count": 19,
     "metadata": {},
     "output_type": "execute_result"
    }
   ],
   "source": [
    "a[0:5:2]"
   ]
  },
  {
   "cell_type": "code",
   "execution_count": 20,
   "id": "2876bdc0-5d75-4e80-976e-6df6d0847a90",
   "metadata": {},
   "outputs": [
    {
     "data": {
      "text/plain": [
       "[51, 58, 26, 77]"
      ]
     },
     "execution_count": 20,
     "metadata": {},
     "output_type": "execute_result"
    }
   ],
   "source": [
    "a[4:8:1]"
   ]
  },
  {
   "cell_type": "code",
   "execution_count": 21,
   "id": "99e86dcd-6c25-4d3d-9c3c-2702542292d5",
   "metadata": {},
   "outputs": [
    {
     "data": {
      "text/plain": [
       "[45, 26]"
      ]
     },
     "execution_count": 21,
     "metadata": {},
     "output_type": "execute_result"
    }
   ],
   "source": [
    "a[3:7:3]"
   ]
  },
  {
   "cell_type": "code",
   "execution_count": 22,
   "id": "b9a69e69-f1a9-46c9-bac3-febfe6aac337",
   "metadata": {},
   "outputs": [
    {
     "data": {
      "text/plain": [
       "[1, 122, 33, 45, 51, 58]"
      ]
     },
     "execution_count": 22,
     "metadata": {},
     "output_type": "execute_result"
    }
   ],
   "source": [
    "a[:6:1]"
   ]
  },
  {
   "cell_type": "code",
   "execution_count": 27,
   "id": "d75756d4-4af8-4e7f-93c0-86b8e7b20fe9",
   "metadata": {},
   "outputs": [
    {
     "data": {
      "text/plain": [
       "[12, 84, 26, 51, 33, 1]"
      ]
     },
     "execution_count": 27,
     "metadata": {},
     "output_type": "execute_result"
    }
   ],
   "source": [
    "a[::-2]"
   ]
  },
  {
   "cell_type": "code",
   "execution_count": 24,
   "id": "0085bfe2-3ca3-4321-88f9-ea58ad14f9d9",
   "metadata": {},
   "outputs": [
    {
     "data": {
      "text/plain": [
       "[26, 77, 84, 19, 12]"
      ]
     },
     "execution_count": 24,
     "metadata": {},
     "output_type": "execute_result"
    }
   ],
   "source": [
    "a[6::1]"
   ]
  },
  {
   "cell_type": "code",
   "execution_count": 25,
   "id": "5f601207-6c9e-42d9-8c9e-43c8b950dbfc",
   "metadata": {},
   "outputs": [
    {
     "data": {
      "text/plain": [
       "[1, 45, 26, 19]"
      ]
     },
     "execution_count": 25,
     "metadata": {},
     "output_type": "execute_result"
    }
   ],
   "source": [
    "a[::3]\n"
   ]
  },
  {
   "cell_type": "code",
   "execution_count": 28,
   "id": "44c75f2d-d478-4473-8795-dd831453a4f5",
   "metadata": {},
   "outputs": [],
   "source": [
    "list=[1,2,'apple','orange',3,4]\n",
    "      \n",
    "      "
   ]
  },
  {
   "cell_type": "code",
   "execution_count": 29,
   "id": "9714301f-b38e-4f3b-8fab-4785a7da0acd",
   "metadata": {},
   "outputs": [
    {
     "name": "stdout",
     "output_type": "stream",
     "text": [
      "['car', 2, 'apple', 'orange', 3, 4]\n"
     ]
    }
   ],
   "source": [
    "list[0]='car'\n",
    "print(list)"
   ]
  },
  {
   "cell_type": "code",
   "execution_count": 30,
   "id": "bf0e3af9-9e7b-441a-bd00-8bb3a5cf0e82",
   "metadata": {},
   "outputs": [
    {
     "name": "stdout",
     "output_type": "stream",
     "text": [
      "['car', 2, 'apple', 'orange', 3, 4, 4]\n"
     ]
    }
   ],
   "source": [
    "list.append(4)\n",
    "print(list)"
   ]
  },
  {
   "cell_type": "code",
   "execution_count": 31,
   "id": "8b2b9bf5-32d0-43ff-918a-e862defd0057",
   "metadata": {},
   "outputs": [
    {
     "name": "stdout",
     "output_type": "stream",
     "text": [
      "['babna', 'car', 2, 'apple', 'orange', 3, 4, 4]\n"
     ]
    }
   ],
   "source": [
    "list.insert(0,'babna')\n",
    "print(list)"
   ]
  },
  {
   "cell_type": "code",
   "execution_count": 32,
   "id": "7dd26a35-3d6e-492d-bd70-14767b27c440",
   "metadata": {},
   "outputs": [
    {
     "name": "stdout",
     "output_type": "stream",
     "text": [
      "['babna', 'car', 2, 'orange', 3, 4, 4]\n"
     ]
    }
   ],
   "source": [
    "list.remove('apple')\n",
    "print(list)"
   ]
  },
  {
   "cell_type": "code",
   "execution_count": 35,
   "id": "1caea7b2-990b-4870-9bf0-c25b85a0124e",
   "metadata": {},
   "outputs": [
    {
     "name": "stdout",
     "output_type": "stream",
     "text": [
      "orange\n"
     ]
    }
   ],
   "source": [
    "print(list.pop(2))"
   ]
  },
  {
   "cell_type": "code",
   "execution_count": 40,
   "id": "b1a155f5-3736-498a-a816-10be19422a67",
   "metadata": {},
   "outputs": [],
   "source": [
    "list=[1,2,'apple','orange',3,4]"
   ]
  },
  {
   "cell_type": "code",
   "execution_count": 41,
   "id": "cf7910ef-2b5f-40ce-b8db-1407bb59afe6",
   "metadata": {},
   "outputs": [
    {
     "name": "stdout",
     "output_type": "stream",
     "text": [
      "[2, 'apple', 'orange', 3, 4]\n"
     ]
    }
   ],
   "source": [
    "list.remove(1)\n",
    "print(list)"
   ]
  },
  {
   "cell_type": "code",
   "execution_count": 43,
   "id": "32225559-ce4f-4a16-b3bf-887bb2652203",
   "metadata": {},
   "outputs": [
    {
     "name": "stdout",
     "output_type": "stream",
     "text": [
      "['apple', 'orange', 3, 4]\n"
     ]
    }
   ],
   "source": [
    "print(list)"
   ]
  },
  {
   "cell_type": "code",
   "execution_count": 44,
   "id": "6449f787-c003-4f80-a5bd-feb30b8a8358",
   "metadata": {},
   "outputs": [
    {
     "name": "stdout",
     "output_type": "stream",
     "text": [
      "0\n"
     ]
    }
   ],
   "source": [
    "print(list.index('apple'))"
   ]
  },
  {
   "cell_type": "code",
   "execution_count": 45,
   "id": "77582a32-c119-4f03-82f1-7486ec68fc31",
   "metadata": {},
   "outputs": [
    {
     "name": "stdout",
     "output_type": "stream",
     "text": [
      "1\n"
     ]
    }
   ],
   "source": [
    "print(list.count('apple'))"
   ]
  },
  {
   "cell_type": "code",
   "execution_count": 46,
   "id": "fb472c19-1431-4c76-b75d-e570a6a93d16",
   "metadata": {},
   "outputs": [],
   "source": [
    "list.reverse()"
   ]
  },
  {
   "cell_type": "code",
   "execution_count": 47,
   "id": "7299d50f-9d5d-42d7-b94b-5d551a12228f",
   "metadata": {},
   "outputs": [
    {
     "name": "stdout",
     "output_type": "stream",
     "text": [
      "[4, 3, 'orange', 'apple']\n"
     ]
    }
   ],
   "source": [
    "print(list)"
   ]
  },
  {
   "cell_type": "code",
   "execution_count": 50,
   "id": "b512f493-644f-4ac3-952f-70e89d0e4049",
   "metadata": {},
   "outputs": [
    {
     "name": "stdout",
     "output_type": "stream",
     "text": [
      "[51, 25, 92, 67, 76, 56, 54, 45, 3, 12, 76, 23, 0, 4, 978, 12, 65, 12, 99, 1, 7, 4, 2]\n"
     ]
    }
   ],
   "source": [
    "list1=[2,4,7,1,99,12,65,12,978,4,0,23,76,12,3,45,54,56,76,67,92,25,51]\n",
    "list1.reverse()\n",
    "print(list1)"
   ]
  },
  {
   "cell_type": "code",
   "execution_count": 51,
   "id": "05393857-fefe-4ae3-b2ed-25c12487486a",
   "metadata": {},
   "outputs": [
    {
     "name": "stdout",
     "output_type": "stream",
     "text": [
      "[0, 1, 4, 9, 16, 25, 36, 49, 64, 81]\n"
     ]
    }
   ],
   "source": [
    "squares = [x**2 for x in range(10)]\n",
    "print(squares)"
   ]
  },
  {
   "cell_type": "code",
   "execution_count": 52,
   "id": "f41bd233-4834-4082-a6ea-61c1171a604e",
   "metadata": {},
   "outputs": [
    {
     "name": "stdout",
     "output_type": "stream",
     "text": [
      "[0, 1, 8, 27, 64]\n"
     ]
    }
   ],
   "source": [
    "cube=[x**3 for x in range(5)]\n",
    "print(cube)"
   ]
  },
  {
   "cell_type": "code",
   "execution_count": 53,
   "id": "ad20a0ea-8b02-4aeb-a2c3-9b497835dff5",
   "metadata": {},
   "outputs": [
    {
     "name": "stdout",
     "output_type": "stream",
     "text": [
      "0\n",
      "1\n",
      "4\n",
      "9\n",
      "16\n"
     ]
    }
   ],
   "source": [
    "for x in range(5):\n",
    "    print(x**2)"
   ]
  },
  {
   "cell_type": "code",
   "execution_count": 54,
   "id": "5347d917-72fe-44be-8d64-f5cf7cb2f7ba",
   "metadata": {},
   "outputs": [
    {
     "data": {
      "text/plain": [
       "0"
      ]
     },
     "execution_count": 54,
     "metadata": {},
     "output_type": "execute_result"
    }
   ],
   "source": [
    "min(squares)"
   ]
  },
  {
   "cell_type": "code",
   "execution_count": 55,
   "id": "9128c29d-490b-4a4b-b3c8-b770a7548498",
   "metadata": {},
   "outputs": [
    {
     "data": {
      "text/plain": [
       "81"
      ]
     },
     "execution_count": 55,
     "metadata": {},
     "output_type": "execute_result"
    }
   ],
   "source": [
    "max(squares)"
   ]
  },
  {
   "cell_type": "code",
   "execution_count": 57,
   "id": "063651df-c62c-4f75-ae4d-e1dbb5f01cfa",
   "metadata": {},
   "outputs": [],
   "source": [
    "squares.sort()"
   ]
  },
  {
   "cell_type": "code",
   "execution_count": 59,
   "id": "87594447-b54a-4d72-83f8-f0afa65e960b",
   "metadata": {},
   "outputs": [
    {
     "name": "stdout",
     "output_type": "stream",
     "text": [
      "[0, 1, 4, 9, 16, 25, 36, 49, 64, 81]\n"
     ]
    }
   ],
   "source": [
    "print(squares)"
   ]
  },
  {
   "cell_type": "code",
   "execution_count": 4,
   "id": "f7b29ec1-5163-4ba1-89b5-5f630d6ea09f",
   "metadata": {},
   "outputs": [
    {
     "name": "stdout",
     "output_type": "stream",
     "text": [
      "[1, 26, 4, 5, 6, 7]\n"
     ]
    }
   ],
   "source": [
    "my_list=[1,26,73,4,5,6,7]\n",
    "my_list.remove(73)\n",
    "print(my_list)"
   ]
  },
  {
   "cell_type": "code",
   "execution_count": null,
   "id": "ec8a3f78-e5ea-42e3-98e4-4c82d4b725b1",
   "metadata": {},
   "outputs": [],
   "source": []
  },
  {
   "cell_type": "code",
   "execution_count": null,
   "id": "a52308ae-1095-4d08-ace1-c104c5598a7c",
   "metadata": {},
   "outputs": [],
   "source": []
  }
 ],
 "metadata": {
  "kernelspec": {
   "display_name": "Python 3 (ipykernel)",
   "language": "python",
   "name": "python3"
  },
  "language_info": {
   "codemirror_mode": {
    "name": "ipython",
    "version": 3
   },
   "file_extension": ".py",
   "mimetype": "text/x-python",
   "name": "python",
   "nbconvert_exporter": "python",
   "pygments_lexer": "ipython3",
   "version": "3.12.2"
  }
 },
 "nbformat": 4,
 "nbformat_minor": 5
}
