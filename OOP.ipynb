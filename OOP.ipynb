{
 "cells": [
  {
   "cell_type": "code",
   "execution_count": 31,
   "id": "e19b8714-869f-4d81-9faa-1d99b871a9da",
   "metadata": {},
   "outputs": [],
   "source": [
    "class computer:\n",
    "    mousepad=1 #Class variable\n",
    "    def __init__(self,cpu,ram):\n",
    "        self.cpu = cpu\n",
    "        self.ram = ram\n",
    "    def config(self):\n",
    "        print(\"Configuration is:\" ,self.cpu , self.ram)\n",
    "\n",
    "    def update(self):\n",
    "        self.ram=0\n",
    "\n",
    "    def compare(self , other):\n",
    "        if self.ram == other.ram:\n",
    "            print(f'Both are equal')\n",
    "        else:\n",
    "            print(f'Both aren not equal')\n",
    "        \n",
    "\n",
    "\n",
    "com1 = computer('i5' , 14)\n",
    "com2 = computer('i7' , 16)"
   ]
  },
  {
   "cell_type": "code",
   "execution_count": 4,
   "id": "ca128cd2-890c-4b9c-af78-f7e72ebd4f1a",
   "metadata": {},
   "outputs": [
    {
     "name": "stdout",
     "output_type": "stream",
     "text": [
      "Configuration is: i5 14\n",
      "Configuration is: i7 16\n"
     ]
    }
   ],
   "source": [
    "com1.config()\n",
    "com2.config()"
   ]
  },
  {
   "cell_type": "code",
   "execution_count": 32,
   "id": "32c17219-d471-451d-a3f1-048d211f21e7",
   "metadata": {},
   "outputs": [
    {
     "name": "stdout",
     "output_type": "stream",
     "text": [
      "Configuration is: i5 0\n",
      "Both aren not equal\n",
      "1 1\n"
     ]
    }
   ],
   "source": [
    "com1.update()\n",
    "com1.config()\n",
    "com1.compare(com2)\n",
    "print(com1.mousepad , com2.mousepad)"
   ]
  },
  {
   "cell_type": "code",
   "execution_count": 5,
   "id": "c427d06a-1871-450d-94dd-cedf5cffe6ca",
   "metadata": {},
   "outputs": [],
   "source": [
    "com1.ram=19"
   ]
  },
  {
   "cell_type": "code",
   "execution_count": 6,
   "id": "2f64836a-8d9c-4f82-a92f-51d80f87dfde",
   "metadata": {},
   "outputs": [
    {
     "name": "stdout",
     "output_type": "stream",
     "text": [
      "Configuration is: i5 19\n"
     ]
    }
   ],
   "source": [
    "com1.config()"
   ]
  },
  {
   "cell_type": "code",
   "execution_count": 7,
   "id": "243eb6bb-9380-4628-a6c3-16680b82add7",
   "metadata": {},
   "outputs": [
    {
     "name": "stdout",
     "output_type": "stream",
     "text": [
      "Configuration is: ryzen5 19\n"
     ]
    }
   ],
   "source": [
    "com1.cpu='ryzen5'\n",
    "com1.config()"
   ]
  },
  {
   "cell_type": "code",
   "execution_count": 10,
   "id": "41b174c6-edeb-4518-8ec9-11bef68d8525",
   "metadata": {},
   "outputs": [],
   "source": [
    "del com1.cpu"
   ]
  },
  {
   "cell_type": "code",
   "execution_count": 11,
   "id": "48db87e1-cbda-4fb3-984a-879904070a23",
   "metadata": {},
   "outputs": [
    {
     "ename": "AttributeError",
     "evalue": "'computer' object has no attribute 'cpu'",
     "output_type": "error",
     "traceback": [
      "\u001b[1;31m---------------------------------------------------------------------------\u001b[0m",
      "\u001b[1;31mAttributeError\u001b[0m                            Traceback (most recent call last)",
      "Cell \u001b[1;32mIn[11], line 1\u001b[0m\n\u001b[1;32m----> 1\u001b[0m \u001b[43mcom1\u001b[49m\u001b[38;5;241;43m.\u001b[39;49m\u001b[43mconfig\u001b[49m\u001b[43m(\u001b[49m\u001b[43m)\u001b[49m\n",
      "Cell \u001b[1;32mIn[3], line 6\u001b[0m, in \u001b[0;36mcomputer.config\u001b[1;34m(self)\u001b[0m\n\u001b[0;32m      5\u001b[0m \u001b[38;5;28;01mdef\u001b[39;00m \u001b[38;5;21mconfig\u001b[39m(\u001b[38;5;28mself\u001b[39m):\n\u001b[1;32m----> 6\u001b[0m     \u001b[38;5;28mprint\u001b[39m(\u001b[38;5;124m\"\u001b[39m\u001b[38;5;124mConfiguration is:\u001b[39m\u001b[38;5;124m\"\u001b[39m ,\u001b[38;5;28;43mself\u001b[39;49m\u001b[38;5;241;43m.\u001b[39;49m\u001b[43mcpu\u001b[49m , \u001b[38;5;28mself\u001b[39m\u001b[38;5;241m.\u001b[39mram)\n",
      "\u001b[1;31mAttributeError\u001b[0m: 'computer' object has no attribute 'cpu'"
     ]
    }
   ],
   "source": [
    "com1.config()"
   ]
  },
  {
   "cell_type": "code",
   "execution_count": 12,
   "id": "232976b8-2d8b-485b-b720-ed2d6bf5dd13",
   "metadata": {},
   "outputs": [
    {
     "ename": "AttributeError",
     "evalue": "'computer' object has no attribute 'cpu'",
     "output_type": "error",
     "traceback": [
      "\u001b[1;31m---------------------------------------------------------------------------\u001b[0m",
      "\u001b[1;31mAttributeError\u001b[0m                            Traceback (most recent call last)",
      "Cell \u001b[1;32mIn[12], line 1\u001b[0m\n\u001b[1;32m----> 1\u001b[0m \u001b[43mcom1\u001b[49m\u001b[38;5;241;43m.\u001b[39;49m\u001b[43mconfig\u001b[49m\u001b[43m(\u001b[49m\u001b[43m)\u001b[49m\n",
      "Cell \u001b[1;32mIn[3], line 6\u001b[0m, in \u001b[0;36mcomputer.config\u001b[1;34m(self)\u001b[0m\n\u001b[0;32m      5\u001b[0m \u001b[38;5;28;01mdef\u001b[39;00m \u001b[38;5;21mconfig\u001b[39m(\u001b[38;5;28mself\u001b[39m):\n\u001b[1;32m----> 6\u001b[0m     \u001b[38;5;28mprint\u001b[39m(\u001b[38;5;124m\"\u001b[39m\u001b[38;5;124mConfiguration is:\u001b[39m\u001b[38;5;124m\"\u001b[39m ,\u001b[38;5;28;43mself\u001b[39;49m\u001b[38;5;241;43m.\u001b[39;49m\u001b[43mcpu\u001b[49m , \u001b[38;5;28mself\u001b[39m\u001b[38;5;241m.\u001b[39mram)\n",
      "\u001b[1;31mAttributeError\u001b[0m: 'computer' object has no attribute 'cpu'"
     ]
    }
   ],
   "source": [
    "com1.config()"
   ]
  },
  {
   "cell_type": "code",
   "execution_count": 13,
   "id": "02210569-f487-4df9-aea2-c53d29a30e86",
   "metadata": {},
   "outputs": [],
   "source": [
    "com1 = computer('i5' , 14)"
   ]
  },
  {
   "cell_type": "code",
   "execution_count": 14,
   "id": "514acb16-191b-4cc0-a320-2fbe4b7174b1",
   "metadata": {},
   "outputs": [
    {
     "name": "stdout",
     "output_type": "stream",
     "text": [
      "Configuration is: i5 14\n"
     ]
    }
   ],
   "source": [
    "com1.config()"
   ]
  },
  {
   "cell_type": "code",
   "execution_count": 15,
   "id": "a6267544-50d8-4096-97a5-7414c9f6ac64",
   "metadata": {},
   "outputs": [],
   "source": [
    "del com1"
   ]
  },
  {
   "cell_type": "code",
   "execution_count": 16,
   "id": "76cf45c9-c889-42d0-80c9-1a7a1c0f36d4",
   "metadata": {},
   "outputs": [
    {
     "ename": "NameError",
     "evalue": "name 'com1' is not defined",
     "output_type": "error",
     "traceback": [
      "\u001b[1;31m---------------------------------------------------------------------------\u001b[0m",
      "\u001b[1;31mNameError\u001b[0m                                 Traceback (most recent call last)",
      "Cell \u001b[1;32mIn[16], line 1\u001b[0m\n\u001b[1;32m----> 1\u001b[0m \u001b[43mcom1\u001b[49m\u001b[38;5;241m.\u001b[39mconfig()\n",
      "\u001b[1;31mNameError\u001b[0m: name 'com1' is not defined"
     ]
    }
   ],
   "source": [
    "com1.config()"
   ]
  },
  {
   "cell_type": "code",
   "execution_count": 17,
   "id": "ff54f190-b7fd-4bb2-b719-b7efe024f540",
   "metadata": {},
   "outputs": [],
   "source": [
    "class Person:\n",
    "    def __init__(self,fname,lname):\n",
    "        self.fname = fname\n",
    "        self.lname = lname\n",
    "\n",
    "    def printname(self):\n",
    "        print(f'First name is:{self.fname} and Last name is: {self.lname}')\n",
    "    "
   ]
  },
  {
   "cell_type": "code",
   "execution_count": 18,
   "id": "75b7451f-4fb8-4e20-ac41-a0442c034332",
   "metadata": {},
   "outputs": [],
   "source": [
    "obj_1 = Person('Ram' , 'Hari')"
   ]
  },
  {
   "cell_type": "code",
   "execution_count": 19,
   "id": "c2993d3a-74fa-4cb4-b606-699a746c6d20",
   "metadata": {},
   "outputs": [
    {
     "name": "stdout",
     "output_type": "stream",
     "text": [
      "First name is:Ram and Last name is: Hari\n"
     ]
    }
   ],
   "source": [
    "obj_1.printname()"
   ]
  },
  {
   "cell_type": "code",
   "execution_count": 23,
   "id": "6a661923-0248-4fa8-89f3-4a1ceeae60ff",
   "metadata": {},
   "outputs": [],
   "source": [
    "class Student(Person):\n",
    "    def __init__(self,fname,lname,year):\n",
    "        super().__init__(fname,lname)\n",
    "        self.gradyear=year\n",
    "\n",
    "    def info(self):\n",
    "        print(f'Welcome :{self.fname} {self.lname} , graduate of year: {self.gradyear}')"
   ]
  },
  {
   "cell_type": "code",
   "execution_count": 24,
   "id": "602f05e0-bed7-4594-a136-7515b578ec3f",
   "metadata": {},
   "outputs": [],
   "source": [
    "student1=Student('Prist','Rawal',2025)"
   ]
  },
  {
   "cell_type": "code",
   "execution_count": 25,
   "id": "97e2c1bb-1ace-489e-9139-11777a055c64",
   "metadata": {},
   "outputs": [
    {
     "name": "stdout",
     "output_type": "stream",
     "text": [
      "Welcome :Prist Rawal , graduate of year: 2025\n"
     ]
    }
   ],
   "source": [
    "student1.info()"
   ]
  },
  {
   "cell_type": "code",
   "execution_count": null,
   "id": "4ef1a92b-70c0-4cdd-ba33-93bcfdffaaa3",
   "metadata": {},
   "outputs": [],
   "source": []
  }
 ],
 "metadata": {
  "kernelspec": {
   "display_name": "Python 3 (ipykernel)",
   "language": "python",
   "name": "python3"
  },
  "language_info": {
   "codemirror_mode": {
    "name": "ipython",
    "version": 3
   },
   "file_extension": ".py",
   "mimetype": "text/x-python",
   "name": "python",
   "nbconvert_exporter": "python",
   "pygments_lexer": "ipython3",
   "version": "3.12.2"
  }
 },
 "nbformat": 4,
 "nbformat_minor": 5
}
